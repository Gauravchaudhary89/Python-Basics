{
  "nbformat": 4,
  "nbformat_minor": 0,
  "metadata": {
    "colab": {
      "provenance": []
    },
    "kernelspec": {
      "name": "python3",
      "display_name": "Python 3"
    },
    "language_info": {
      "name": "python"
    }
  },
  "cells": [
    {
      "cell_type": "markdown",
      "source": [],
      "metadata": {
        "id": "ICd-AZKmlCbA"
      }
    },
    {
      "cell_type": "markdown",
      "source": [
        "                             **Python Basics Questions**\n",
        "\n",
        "1. What is Python, and why is it popular ?\n",
        "\n",
        "  ANS- Python is a high-level, easy-to-learn, and versatile programming language\n",
        "  known for its simple, readable syntax.\n",
        "  Why it’s popular:\n",
        "  .Beginner-friendly\n",
        "  .Powerful for web, data science, AI, and automation\n",
        "  .Huge library support\n",
        "  .Large, supportive community\n",
        "  .Runs on multiple platforms\n",
        "\n",
        "2. What is an interpreter in Python?\n",
        "\n",
        "  ANS- An interpreter in Python is a program that reads and runs Python code line\n",
        "  by line, converting it into machine instructions so your computer can execute it immediately.\n",
        "\n",
        "3. What are pre-defined keywords in Python ?\n",
        "\n",
        "  ANS- Pre-defined keywords in Python are reserved words that have special meanings and are part of Python’s syntax. You can’t use them as variable or function names.\n",
        "\n",
        "\n",
        "4. Can keywords be used as variable names ?\n",
        "\n",
        "  ANS- No, keywords can’t be used as variable names in Python. They are reserved for special purposes.\n",
        "\n",
        "5. What is mutability in Python ?\n",
        "\n",
        "  ANS-Mutability in Python means whether an object’s value can be changed after creation.\n",
        "      Mutable: can change (e.g. list, dict)\n",
        "      \n",
        "      Immutable: can’t change (e.g. int, str, tuple)\n",
        "\n",
        "6. Why are lists mutable, but tuples are immutable ?\n",
        "\n",
        "  ANS-Lists are mutable because they’re meant to be flexible and changeable.\n",
        "      Tuples are immutable to ensure fixed, efficient, and safe data.\n",
        "\n",
        "7. What is the difference between “==” and “is” operators in Python ?\n",
        "\n",
        "  ANS- \"==\" checks if values are the same.\n",
        "\n",
        "      \"is\" checks if both variables refer to the same object in memory.\n",
        "\n",
        "8. What are logical operators in Python ?\n",
        "\n",
        "  ANS- \"and\" True if both conditions are true.\n",
        "\n",
        "    \"or\" True if at least one condition is true.\n",
        "\n",
        "   \"not\" Reverses the condition (True becomes False, and vice versa).\n",
        "\n",
        "9. What is type casting in Python ?\n",
        "\n",
        "  ANS-Type casting in Python is the process of converting one data type into another.\n",
        "\n",
        " Implicit casting: Python automatically converts a smaller data type to a larger one (e.g., int to float).\n",
        "\n",
        " Explicit casting: You manually convert a data type using functions like int(), float(), str(), etc.\n",
        "\n",
        "10. What is the difference between implicit and explicit type casting ?\n",
        "\n",
        "  ANS-Implicit casting: Python automatically converts a smaller data type to a larger one.\n",
        "\n",
        " Explicit casting: Programmer manually converts one data type to another using functions like int(), float().\n",
        "\n",
        "11. What is the purpose of conditional statements in Python ?\n",
        "\n",
        "  ANS-Conditional statements in Python let a program make decisions and execute different code depending on whether a condition is true or false.\n",
        "\n",
        " Example:\n",
        "\n",
        "if x > 0:\n",
        "    \n",
        "    print(\"Positive\")\n",
        "\n",
        "else:\n",
        "   \n",
        "    print(\"Not positive\")\n",
        "\n",
        "12. How does the elif statement work ?\n",
        "\n",
        "  ANS-elif is used to check another condition if the if condition is false.\n",
        "You can have multiple elif statements to handle different cases.\n",
        "\n",
        " Example:\n",
        "  \n",
        "if x > 0:\n",
        "    \n",
        "       print(\"Positive\")\n",
        "\n",
        "elif x == 0:\n",
        "    \n",
        "    print(\"Zero\")\n",
        "\n",
        "else:\n",
        "    \n",
        "    print(\"Negative\")\n",
        "\n",
        "\n",
        "13. What is the difference between for and while loops ?\n",
        "\n",
        "  ANS-for loop: Repeats a fixed number of times or over a sequence.\n",
        "\n",
        " while loop: Repeats as long as a condition is true.\n",
        "\n",
        "14. Describe a scenario where a while loop is more suitable than a for loop.\n",
        "\n",
        "  ANS-Use a while loop when you need to repeat something an unknown number of times until a condition is met.\n",
        "\n",
        " Example:\n",
        "\n",
        "secret = 7\n",
        "\n",
        "guess = 0\n",
        "\n",
        "while guess != secret:\n",
        "    \n",
        "    guess = int(input(\"Guess the number: \"))\n",
        "\n",
        "print(\"Correct!\")\n",
        "\n",
        "\n",
        "\n",
        "\n",
        "\n",
        "                      \n",
        "                      \n",
        "                      \n",
        "                      \n",
        "                                        **# PRACTICAL QUESTION**\n",
        "\n",
        "\n",
        "\n",
        "  \n",
        "\n",
        "\n",
        "\n",
        "\n",
        "\n",
        "\n",
        "\n",
        "\n",
        "\n",
        "\n",
        "\n",
        "\n",
        "\n",
        "\n",
        "\n",
        "\n",
        "\n",
        "\n",
        "\n",
        "\n",
        "\n",
        "\n"
      ],
      "metadata": {
        "id": "yg2Uv1fVbTyo"
      }
    },
    {
      "cell_type": "code",
      "source": [
        "# 1. Write a Python program to print \"Hello, World!\n",
        "\n",
        "print(\"Hello,world!\")"
      ],
      "metadata": {
        "id": "8ibrGYsLbXM3",
        "colab": {
          "base_uri": "https://localhost:8080/"
        },
        "outputId": "b5d48b47-3f70-4ed9-a9c7-d1b6c20be782"
      },
      "execution_count": null,
      "outputs": [
        {
          "output_type": "stream",
          "name": "stdout",
          "text": [
            "Hello,world!\n"
          ]
        }
      ]
    },
    {
      "cell_type": "markdown",
      "source": [],
      "metadata": {
        "id": "3NknWHNVcHRA"
      }
    },
    {
      "cell_type": "code",
      "source": [
        "# 2. Write a Python program that displays your name and age?\n",
        "\n",
        "name=input(\"Enter youur name\")\n",
        "age=int(input(\"Enter your age\"))\n",
        "print(name)\n",
        "print(age)"
      ],
      "metadata": {
        "colab": {
          "base_uri": "https://localhost:8080/"
        },
        "id": "raE_zxbvbpVl",
        "outputId": "7d192772-26d9-4193-ad44-c99e9ee606f2"
      },
      "execution_count": null,
      "outputs": [
        {
          "output_type": "stream",
          "name": "stdout",
          "text": [
            "Enter youur nameGaurav\n",
            "Enter your age21\n",
            "Gaurav\n",
            "21\n"
          ]
        }
      ]
    },
    {
      "cell_type": "code",
      "source": [
        "# 3. Write code to print all the pre-defined keywords in Python using the keyword library.\n",
        "\n",
        "import keyword\n",
        "print(\"Python Keywords:\")\n",
        "print(keyword.kwlist)\n"
      ],
      "metadata": {
        "colab": {
          "base_uri": "https://localhost:8080/"
        },
        "id": "qijNkhfncPxM",
        "outputId": "1d45a81e-0ac0-4b51-e6b4-51357323f316"
      },
      "execution_count": null,
      "outputs": [
        {
          "output_type": "stream",
          "name": "stdout",
          "text": [
            "Python Keywords:\n",
            "['False', 'None', 'True', 'and', 'as', 'assert', 'async', 'await', 'break', 'class', 'continue', 'def', 'del', 'elif', 'else', 'except', 'finally', 'for', 'from', 'global', 'if', 'import', 'in', 'is', 'lambda', 'nonlocal', 'not', 'or', 'pass', 'raise', 'return', 'try', 'while', 'with', 'yield']\n"
          ]
        }
      ]
    },
    {
      "cell_type": "code",
      "source": [
        "# 4. Write a program that checks if a given word is a Python keyword.\n",
        "import keyword\n",
        "word = input(\"Enter a word to check if it's a Python keyword: \")\n",
        "if keyword.iskeyword(word):\n",
        "    print(f\"'{word}' is a Python keyword.\")\n",
        "else:\n",
        "    print(f\"'{word}' is NOT a Python keyword.\")\n"
      ],
      "metadata": {
        "colab": {
          "base_uri": "https://localhost:8080/"
        },
        "id": "w85RE0UWc8cR",
        "outputId": "75e6a337-f369-4d57-82da-555a04d587d7"
      },
      "execution_count": null,
      "outputs": [
        {
          "output_type": "stream",
          "name": "stdout",
          "text": [
            "Enter a word to check if it's a Python keyword: except\n",
            "'except' is a Python keyword.\n"
          ]
        }
      ]
    },
    {
      "cell_type": "code",
      "source": [
        "# 5. Create a list and tuple in Python, and demonstrate how attempting to change an element works differently for each.\n",
        "\n",
        "my_list = [10, 20, 30, 40]\n",
        "my_tuple = (10, 20, 30, 40)\n",
        "print(\"Original List:\", my_list)\n",
        "my_list[1] = 25\n",
        "print(\"Modified List:\", my_list)\n",
        "print(\"\\nOriginal Tuple:\", my_tuple)\n",
        "try:\n",
        "    my_tuple[1] = 25\n",
        "except TypeError as e:\n",
        "    print(\"Error when trying to modify tuple:\", e)\n",
        "\n"
      ],
      "metadata": {
        "colab": {
          "base_uri": "https://localhost:8080/"
        },
        "id": "syqBmGocdazD",
        "outputId": "ec799c2d-8ad5-4d04-dca7-096fae4d2987"
      },
      "execution_count": null,
      "outputs": [
        {
          "output_type": "stream",
          "name": "stdout",
          "text": [
            "Original List: [10, 20, 30, 40]\n",
            "Modified List: [10, 25, 30, 40]\n",
            "\n",
            "Original Tuple: (10, 20, 30, 40)\n",
            "Error when trying to modify tuple: 'tuple' object does not support item assignment\n"
          ]
        }
      ]
    },
    {
      "cell_type": "code",
      "source": [
        "# 6.  Write a function to demonstrate the behavior of mutable and immutable arguments.\n",
        "def modify_arguments(num, num_list):\n",
        "    num += 10\n",
        "    print(\"Inside function (num):\", num)\n",
        "    num_list.append(100)\n",
        "    print(\"Inside function (num_list):\", num_list)\n",
        "number = 5\n",
        "numbers_list = [1, 2, 3]\n",
        "modify_arguments(number, numbers_list)\n",
        "print(\"\\nOutside function (number):\", number)\n",
        "print(\"Outside function (numbers_list):\", numbers_list)\n"
      ],
      "metadata": {
        "colab": {
          "base_uri": "https://localhost:8080/"
        },
        "id": "_CRc5Kjod_fb",
        "outputId": "c26cf6f3-a3f2-42b6-b14f-c33c1b3d2077"
      },
      "execution_count": null,
      "outputs": [
        {
          "output_type": "stream",
          "name": "stdout",
          "text": [
            "Inside function (num): 15\n",
            "Inside function (num_list): [1, 2, 3, 100]\n",
            "\n",
            "Outside function (number): 5\n",
            "Outside function (numbers_list): [1, 2, 3, 100]\n"
          ]
        }
      ]
    },
    {
      "cell_type": "code",
      "source": [
        "# 7. Write a program that performs basic arithmetic operations on two user-input numbers.\n",
        "num1 = float(input(\"Enter the first number: \"))\n",
        "num2 = float(input(\"Enter the second number: \"))\n",
        "\n",
        "addition = num1 + num2\n",
        "subtraction = num1 - num2\n",
        "multiplication = num1 * num2\n",
        "\n",
        "if num2 != 0:\n",
        "    division = num1 / num2\n",
        "    modulus = num1 % num2\n",
        "else:\n",
        "    division = \"Undefined (cannot divide by zero)\"\n",
        "    modulus = \"Undefined (cannot divide by zero)\"\n",
        "\n",
        "print(\"\\nResults:\")\n",
        "print(f\"Addition: {addition}\")\n",
        "print(f\"Subtraction: {subtraction}\")\n",
        "print(f\"Multiplication: {multiplication}\")\n",
        "print(f\"Division: {division}\")\n",
        "print(f\"Modulus: {modulus}\")\n"
      ],
      "metadata": {
        "colab": {
          "base_uri": "https://localhost:8080/"
        },
        "id": "fJjf4jB_ev6a",
        "outputId": "312648b9-da8e-4e97-ad8a-282cc7e1f131"
      },
      "execution_count": null,
      "outputs": [
        {
          "output_type": "stream",
          "name": "stdout",
          "text": [
            "Enter the first number: 4\n",
            "Enter the second number: 2\n",
            "\n",
            "Results:\n",
            "Addition: 6.0\n",
            "Subtraction: 2.0\n",
            "Multiplication: 8.0\n",
            "Division: 2.0\n",
            "Modulus: 0.0\n"
          ]
        }
      ]
    },
    {
      "cell_type": "code",
      "source": [
        "# 8. Write a program to demonstrate the use of logical operators.\n",
        "a = True\n",
        "b = False\n",
        "\n",
        "print(\"Logical Operators Demo:\\n\")\n",
        "\n",
        "print(f\"a = {a}, b = {b}\\n\")\n",
        "\n",
        "print(\"a and b =\", a and b)\n",
        "print(\"a or b =\", a or b)\n",
        "print(\"not a =\", not a)\n",
        "print(\"not b =\", not b)\n"
      ],
      "metadata": {
        "colab": {
          "base_uri": "https://localhost:8080/"
        },
        "id": "f5A-PClQfEyI",
        "outputId": "d2f80c45-12bd-4470-e6b5-a6a70fbce108"
      },
      "execution_count": null,
      "outputs": [
        {
          "output_type": "stream",
          "name": "stdout",
          "text": [
            "Logical Operators Demo:\n",
            "\n",
            "a = True, b = False\n",
            "\n",
            "a and b = False\n",
            "a or b = True\n",
            "not a = False\n",
            "not b = True\n"
          ]
        }
      ]
    },
    {
      "cell_type": "code",
      "source": [
        "# 9.  Write a Python program to convert user input from string to integer, float, and boolean types.\n",
        "value = input(\"Enter a value: \")\n",
        "print(\"As Integer:\", int(value))\n",
        "print(\"As Float:\", float(value))\n",
        "print(\"As Boolean:\", bool(value))\n"
      ],
      "metadata": {
        "colab": {
          "base_uri": "https://localhost:8080/"
        },
        "id": "n_unowf1fUj1",
        "outputId": "ac0a2e98-0569-4277-91fb-2499ce9f2595"
      },
      "execution_count": null,
      "outputs": [
        {
          "output_type": "stream",
          "name": "stdout",
          "text": [
            "Enter a value: 4\n",
            "As Integer: 4\n",
            "As Float: 4.0\n",
            "As Boolean: True\n"
          ]
        }
      ]
    },
    {
      "cell_type": "code",
      "source": [
        "# 10. Write code to demonstrate type casting with list elements.\n",
        "my_list = ['10', '20.5', 'True', '50']\n",
        "\n",
        "int_list = [int(x) for x in my_list if x.isdigit()]\n",
        "print(\"List with integers:\", int_list)\n",
        "bool_list = [bool(x) for x in my_list]\n",
        "print(\"List with booleans:\", bool_list)\n"
      ],
      "metadata": {
        "colab": {
          "base_uri": "https://localhost:8080/"
        },
        "id": "xTYAZikXfy5G",
        "outputId": "e930dce8-d757-47ff-9576-50e81b74d8a4"
      },
      "execution_count": null,
      "outputs": [
        {
          "output_type": "stream",
          "name": "stdout",
          "text": [
            "List with integers: [10, 50]\n",
            "List with booleans: [True, True, True, True]\n"
          ]
        }
      ]
    },
    {
      "cell_type": "code",
      "source": [
        "# 11. Write a program that checks if a number is positive, negative, or zero.\n",
        "num = int(input(\"Enter a number: \"))\n",
        "\n",
        "if num > 0:\n",
        "    print(\"The number is positive.\")\n",
        "elif num < 0:\n",
        "    print(\"The number is negative.\")\n",
        "else:\n",
        "    print(\"The number is zero.\")\n"
      ],
      "metadata": {
        "colab": {
          "base_uri": "https://localhost:8080/"
        },
        "id": "pyaPHDFkgkcQ",
        "outputId": "f73932dc-8383-4ea2-816e-3ac950351928"
      },
      "execution_count": null,
      "outputs": [
        {
          "output_type": "stream",
          "name": "stdout",
          "text": [
            "Enter a number: 5\n",
            "The number is positive.\n"
          ]
        }
      ]
    },
    {
      "cell_type": "code",
      "source": [
        "# 12.  Write a for loop to print numbers from 1 to 10.\n",
        "for num in range(1,11):\n",
        "  print(num)\n"
      ],
      "metadata": {
        "colab": {
          "base_uri": "https://localhost:8080/"
        },
        "id": "HqdTAST4gyGF",
        "outputId": "b1669ccb-2188-47a4-d28c-0d731dcc749c"
      },
      "execution_count": null,
      "outputs": [
        {
          "output_type": "stream",
          "name": "stdout",
          "text": [
            "1\n",
            "2\n",
            "3\n",
            "4\n",
            "5\n",
            "6\n",
            "7\n",
            "8\n",
            "9\n",
            "10\n"
          ]
        }
      ]
    },
    {
      "cell_type": "code",
      "source": [
        "# 13.  Write a Python program to find the sum of all even numbers between 1 and 50.\n",
        "sum_even = 0\n",
        "\n",
        "for num in range(1, 51):\n",
        "    if num % 2 == 0:\n",
        "        sum_even += num\n",
        "\n",
        "print(\"The sum of all even numbers between 1 and 50 is:\", sum_even)\n",
        "\n"
      ],
      "metadata": {
        "colab": {
          "base_uri": "https://localhost:8080/"
        },
        "id": "afBr91ouhBip",
        "outputId": "15b1709f-f1b8-4d55-b76f-b5e8186b0bd6"
      },
      "execution_count": null,
      "outputs": [
        {
          "output_type": "stream",
          "name": "stdout",
          "text": [
            "The sum of all even numbers between 1 and 50 is: 650\n"
          ]
        }
      ]
    },
    {
      "cell_type": "code",
      "source": [
        "# 14. Write a program to reverse a string using a while loop.\n",
        "string = input(\"Enter a string: \")\n",
        "\n",
        "reversed_string = \"\"\n",
        "i = len(string) - 1\n",
        "\n",
        "while i >= 0:\n",
        "    reversed_string += string[i]\n",
        "    i -= 1\n",
        "\n",
        "print(\"Reversed string:\", reversed_string)\n"
      ],
      "metadata": {
        "colab": {
          "base_uri": "https://localhost:8080/"
        },
        "id": "aTSi2_qYhbc_",
        "outputId": "aa85eec3-c664-43b7-8030-eff01f2d3ea6"
      },
      "execution_count": null,
      "outputs": [
        {
          "output_type": "stream",
          "name": "stdout",
          "text": [
            "Enter a string: gaurav\n",
            "Reversed string: varuag\n"
          ]
        }
      ]
    },
    {
      "cell_type": "code",
      "source": [
        "# 15.  Write a Python program to calculate the factorial of a number provided by the user using a while loop.\n",
        "num = int(input(\"Enter a number: \"))\n",
        "factorial = 1\n",
        "\n",
        "while num > 1:\n",
        "    factorial *= num\n",
        "    num -= 1\n",
        "\n",
        "print(\"The factorial is:\", factorial)\n"
      ],
      "metadata": {
        "colab": {
          "base_uri": "https://localhost:8080/"
        },
        "id": "DdLbY1y3h-HR",
        "outputId": "8bbc5b0d-ea1d-4964-e6f0-21e0d3c51ee4"
      },
      "execution_count": null,
      "outputs": [
        {
          "output_type": "stream",
          "name": "stdout",
          "text": [
            "Enter a number: 7\n",
            "The factorial is: 5040\n"
          ]
        }
      ]
    }
  ]
}